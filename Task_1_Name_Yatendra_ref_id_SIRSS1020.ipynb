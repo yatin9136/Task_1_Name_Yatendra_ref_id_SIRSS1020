{
 "cells": [
  {
   "cell_type": "raw",
   "metadata": {},
   "source": [
    "Pattern*1\n",
    "\n",
    "5 5 5 5 5\n",
    "5 5 5 5\n",
    "5 5 5\n",
    "5 5\n",
    "5"
   ]
  },
  {
   "cell_type": "code",
   "execution_count": 20,
   "metadata": {},
   "outputs": [
    {
     "name": "stdout",
     "output_type": "stream",
     "text": [
      "5 5 5 5 5  \n",
      "5 5 5 5  \n",
      "5 5 5  \n",
      "5 5  \n",
      "5  \n"
     ]
    }
   ],
   "source": [
    "for i in range(5,0,-1):\n",
    "    for j in range(0,i):\n",
    "        print(\"5\",end=\" \")\n",
    "    print(\" \")"
   ]
  },
  {
   "cell_type": "code",
   "execution_count": null,
   "metadata": {},
   "outputs": [],
   "source": []
  },
  {
   "cell_type": "code",
   "execution_count": 34,
   "metadata": {},
   "outputs": [
    {
     "name": "stdout",
     "output_type": "stream",
     "text": [
      "0 1 2 3 4 5  \n",
      "0 1 2 3 4  \n",
      "0 1 2 3  \n",
      "0 1 2  \n",
      "0 1  \n",
      "0  \n"
     ]
    }
   ],
   "source": [
    "for i in range(6, 0, -1):\n",
    "    for j in range(i):\n",
    "        print(j, end=\" \")\n",
    "        \n",
    "    \n",
    "    print(\" \")"
   ]
  },
  {
   "cell_type": "code",
   "execution_count": 22,
   "metadata": {},
   "outputs": [
    {
     "name": "stdout",
     "output_type": "stream",
     "text": [
      "1 \n",
      "3 3 \n",
      "5 5 5 \n",
      "7 7 7 7 \n",
      "9 9 9 9 9 \n"
     ]
    }
   ],
   "source": [
    "i=1\n",
    "while i <=5:\n",
    "    j=1\n",
    "    while j<=i:\n",
    "        print((i*2-1),end=\" \")\n",
    "        j=j+1\n",
    "    i=i+1\n",
    "    print()"
   ]
  },
  {
   "cell_type": "code",
   "execution_count": 4,
   "metadata": {},
   "outputs": [
    {
     "name": "stdout",
     "output_type": "stream",
     "text": [
      "1 \n",
      "2 1 \n",
      "3 2 1 \n",
      "4 3 2 1 \n",
      "5 4 3 2 1 \n"
     ]
    }
   ],
   "source": [
    "for i in range(5): \n",
    "    for j in range(i+1, 0, -1):  \n",
    "        print(j, end=' ')  \n",
    "    print()  "
   ]
  },
  {
   "cell_type": "code",
   "execution_count": 23,
   "metadata": {},
   "outputs": [
    {
     "name": "stdout",
     "output_type": "stream",
     "text": [
      "1 \n",
      "3 2 \n",
      "6 5 4 \n",
      "10 9 8 7 \n"
     ]
    }
   ],
   "source": [
    "\n",
    "\n",
    "k=0\n",
    "for i in range(1,5):\n",
    "    k=k+i\n",
    "    for j in range(k,k-i,-1):\n",
    "        print(j,end= \" \")\n",
    "        \n",
    "    print()"
   ]
  },
  {
   "cell_type": "code",
   "execution_count": 24,
   "metadata": {},
   "outputs": [
    {
     "name": "stdout",
     "output_type": "stream",
     "text": [
      "1 \n",
      "1 1 \n",
      "1 2 1 \n",
      "1 3 3 1 \n",
      "1 4 6 4 1 \n",
      "1 5 10 10 5 1 \n",
      "1 6 15 20 15 6 1 \n"
     ]
    }
   ],
   "source": [
    "n=7\n",
    "list1=[]\n",
    "for i in range(n):\n",
    "    list2=[]\n",
    "    for j in range(i+1):\n",
    "        if j==0 or j==i:\n",
    "            list2.append(1)\n",
    "        else:\n",
    "            list2.append(list1[i-1][j]+list1[i-1][j-1])\n",
    "    list1.append(list2)\n",
    "for i in list1:\n",
    "    for j in i:\n",
    "        print(j,end=\" \")\n",
    "    print()"
   ]
  },
  {
   "cell_type": "code",
   "execution_count": 25,
   "metadata": {},
   "outputs": [
    {
     "name": "stdout",
     "output_type": "stream",
     "text": [
      "1 2 3 4 5 \n",
      "2 2 3 4 5 \n",
      "3 3 3 4 5 \n",
      "4 4 4 4 5 \n",
      "5 5 5 5 5 \n"
     ]
    }
   ],
   "source": [
    "\n",
    "for i in range(1,6):  \n",
    "    for j in range(1, 6):  \n",
    "       \n",
    "        if j <= i:  \n",
    "            print(i, end=' ')  \n",
    "        else:  \n",
    "            print(j, end=' ')  \n",
    "    print()  "
   ]
  },
  {
   "cell_type": "code",
   "execution_count": 26,
   "metadata": {},
   "outputs": [
    {
     "name": "stdout",
     "output_type": "stream",
     "text": [
      "1 \n",
      "2 4 \n",
      "3 6 9 \n",
      "4 8 12 16 \n",
      "5 10 15 20 25 \n",
      "6 12 18 24 30 36 \n",
      "7 14 21 28 35 42 49 \n",
      "8 16 24 32 40 48 56 64 \n"
     ]
    }
   ],
   "source": [
    "for i in range(1,9):\n",
    "    \n",
    "    for k in range(1,i+1):\n",
    "        \n",
    "        print(i*k,end = \" \")\n",
    "    print()  "
   ]
  },
  {
   "cell_type": "code",
   "execution_count": 27,
   "metadata": {},
   "outputs": [
    {
     "name": "stdout",
     "output_type": "stream",
     "text": [
      "Enter the number of rows: 7\n",
      "            * * * * * * * * \n",
      "             * * * * * * * \n",
      "              * * * * * * \n",
      "               * * * * * \n",
      "                * * * * \n",
      "                 * * * \n",
      "                  * * \n",
      "                   * \n"
     ]
    }
   ],
   "source": [
    "rows = int(input(\"Enter the number of rows: \"))  \n",
    "  \n",
    "# It is used to print space  \n",
    "k = 2 * rows - 2  \n",
    "# Outer loop in reverse order  \n",
    "for i in range(rows, -1, -1):  \n",
    "    # Inner loop will print the number of space.  \n",
    "    for j in range(k, 0, -1):  \n",
    "        print(end=\" \")  \n",
    "    k = k + 1  \n",
    "    # This inner loop will print the number o stars  \n",
    "    for j in range(0, i + 1):  \n",
    "        print(\"*\", end=\" \")  \n",
    "    print(\"\")  "
   ]
  },
  {
   "cell_type": "code",
   "execution_count": 28,
   "metadata": {},
   "outputs": [
    {
     "name": "stdout",
     "output_type": "stream",
     "text": [
      "            *   \n",
      "           *  *   \n",
      "          *  *  *   \n",
      "         *  *  *  *   \n",
      "        *  *  *  *  *   \n",
      "       *  *  *  *  *  *   \n",
      "      *  *  *  *  *  *  *   \n"
     ]
    }
   ],
   "source": [
    "n = 7\n",
    "m = (2 * n) - 2\n",
    "for i in range(0, n):\n",
    "    for j in range(0, m):\n",
    "        print(end=\" \")\n",
    "    m = m - 1\n",
    "    for j in range(0, i + 1):\n",
    "        print(\"* \", end=' ')\n",
    "    print(\" \")"
   ]
  },
  {
   "cell_type": "code",
   "execution_count": 29,
   "metadata": {},
   "outputs": [
    {
     "name": "stdout",
     "output_type": "stream",
     "text": [
      "* \n",
      "* * \n",
      "* * * \n",
      "* * * * \n",
      "* * * * * \n",
      "\n",
      "* * * * * \n",
      "* * * * \n",
      "* * * \n",
      "* * \n",
      "* \n"
     ]
    }
   ],
   "source": [
    "for i in range(5):\n",
    "    for j in range(1,i+2):\n",
    "        print(\"*\",end=\" \")\n",
    "    print()\n",
    "print()\n",
    "for i in range(5,0,-1):\n",
    "    for k in range(i,0,-1):\n",
    "        print(\"*\",end=\" \")\n",
    "    print()\n",
    "        "
   ]
  },
  {
   "cell_type": "code",
   "execution_count": 30,
   "metadata": {},
   "outputs": [
    {
     "name": "stdout",
     "output_type": "stream",
     "text": [
      "* \n",
      "* * \n",
      "* * * \n",
      "* * * * \n",
      "* * * * * \n",
      "* * * * * \n",
      "* * * * \n",
      "* * * \n",
      "* * \n",
      "* \n"
     ]
    }
   ],
   "source": [
    "\n",
    "for i in range(5):\n",
    "    for j in range(1,i+2):\n",
    "        print(\"*\",end=\" \")\n",
    "    print()\n",
    "for i in range(5,0,-1):\n",
    "    for j in range(i,0,-1):\n",
    "        print(\"*\",end=\" \")\n",
    "    print()"
   ]
  },
  {
   "cell_type": "code",
   "execution_count": 31,
   "metadata": {},
   "outputs": [
    {
     "name": "stdout",
     "output_type": "stream",
     "text": [
      "7\n",
      "              * \n",
      "            * * \n",
      "          * * * \n",
      "        * * * * \n",
      "      * * * * * \n",
      "    * * * * * * \n",
      "  * * * * * * * \n",
      "* * * * * * * * \n",
      "  * * * * * * * \n",
      "    * * * * * * \n",
      "      * * * * * \n",
      "        * * * * \n",
      "          * * * \n",
      "            * * \n",
      "              * \n"
     ]
    }
   ],
   "source": [
    "n = int(input())\n",
    "for i in range(n+1):\n",
    "    for j in range(n-i,0,-1):\n",
    "        print(\" \",end= \" \")\n",
    "    for k in range(i+1):\n",
    "        print(\"*\",end= \" \")  \n",
    "    print()  \n",
    "for i in range(n,0,-1):\n",
    "    for j in range(n-i+1):\n",
    "        print(\" \",end= \" \")\n",
    "    for k in range(i,0,-1):\n",
    "        print(\"*\",end= \" \")\n",
    "    print()    "
   ]
  },
  {
   "cell_type": "code",
   "execution_count": 32,
   "metadata": {},
   "outputs": [
    {
     "name": "stdout",
     "output_type": "stream",
     "text": [
      "7\n",
      " * * * * * * * \n",
      "  * * * * * * \n",
      "   * * * * * \n",
      "    * * * * \n",
      "     * * * \n",
      "      * * \n",
      "       * \n",
      "       * \n",
      "      * * \n",
      "     * * * \n",
      "    * * * * \n",
      "   * * * * * \n",
      "  * * * * * * \n",
      " * * * * * * * \n"
     ]
    }
   ],
   "source": [
    "n = int(input())\n",
    "for i in range(n,0,-1):\n",
    "    for j in range(n-i+1):\n",
    "        print(\" \",end= \"\")\n",
    "    for k in range(i,0,-1):\n",
    "        print(\"*\",end= \" \")\n",
    "    print()  \n",
    "for i in range(1,n+1):\n",
    "    for j in range(n-i+1):\n",
    "        print(\" \",end =\"\")\n",
    "    for k in range(1,i+1):\n",
    "        print(\"*\",end= \" \")\n",
    "    print()    \n"
   ]
  },
  {
   "cell_type": "code",
   "execution_count": 33,
   "metadata": {},
   "outputs": [
    {
     "name": "stdout",
     "output_type": "stream",
     "text": [
      "7\n",
      "****************\n",
      "*******__*******\n",
      "******____******\n",
      "*****______*****\n",
      "****________****\n",
      "***__________***\n",
      "**____________**\n",
      "*______________*\n"
     ]
    }
   ],
   "source": [
    "n = int(input())\n",
    "for z in range(2*n+2):\n",
    "    print(\"*\",end =\"\")\n",
    "print()  \n",
    "for i in range(n,0,-1):\n",
    "    for j in range(i,0,-1):\n",
    "        print(\"*\",end= \"\")\n",
    "    for k in range(n-i+1):\n",
    "        print(\"_\",end = \"_\")  \n",
    "    for x in range(i,0,-1):\n",
    "        print(\"*\",end = \"\")\n",
    "    print() "
   ]
  },
  {
   "cell_type": "code",
   "execution_count": null,
   "metadata": {},
   "outputs": [],
   "source": []
  }
 ],
 "metadata": {
  "kernelspec": {
   "display_name": "Python 3",
   "language": "python",
   "name": "python3"
  },
  "language_info": {
   "codemirror_mode": {
    "name": "ipython",
    "version": 3
   },
   "file_extension": ".py",
   "mimetype": "text/x-python",
   "name": "python",
   "nbconvert_exporter": "python",
   "pygments_lexer": "ipython3",
   "version": "3.8.5"
  }
 },
 "nbformat": 4,
 "nbformat_minor": 4
}
